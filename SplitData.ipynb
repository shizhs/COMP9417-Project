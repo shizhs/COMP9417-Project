{
 "cells": [
  {
   "cell_type": "code",
   "execution_count": 6,
   "metadata": {},
   "outputs": [],
   "source": [
    "import pandas as pd"
   ]
  },
  {
   "cell_type": "markdown",
   "metadata": {},
   "source": [
    "### Split Datasets ###"
   ]
  },
  {
   "cell_type": "code",
   "execution_count": 7,
   "metadata": {},
   "outputs": [],
   "source": [
    "### Split Activities ###\n",
    "def splitActivities(inputs):\n",
    "    activity_list = ['Stationary', 'Walk', 'Run', 'Unknown']\n",
    "    df_walk = pd.DataFrame(columns=None)\n",
    "    df_run = pd.DataFrame(columns=None)\n",
    "    for i in inputs['activity'].index:\n",
    "        for j in inputs['activity'].columns:\n",
    "            s,w,r,u = inputs['activity'].loc[i, j].split('|')\n",
    "            total = int(s) + int(w) + int(r) + int(u)\n",
    "            if total == 0:\n",
    "                df_walk.loc[i, j] = 0\n",
    "                df_run.loc[i, j] = 0\n",
    "            else:\n",
    "                df_walk.loc[i, j] = int(w)/total\n",
    "                df_run.loc[i, j] = int(r)/total\n",
    "    df_walk.to_csv('./Final_Data/walk.csv')\n",
    "    df_run.to_csv('./Final_Data/run.csv')"
   ]
  },
  {
   "cell_type": "code",
   "execution_count": 8,
   "metadata": {},
   "outputs": [],
   "source": [
    "### Split Audio ###\n",
    "def splitAudio(inputs):\n",
    "    audio_list = ['Silence', 'Voice', 'Noise']\n",
    "    df_noise = pd.DataFrame(columns=None)\n",
    "    df_total_audio = pd.DataFrame(columns=None)\n",
    "    for i in inputs['audio'].index:\n",
    "        for j in inputs['audio'].columns:\n",
    "            s,v,n = inputs['audio'].loc[i, j].split('|')\n",
    "            total = int(s) + int(v) + int(n)\n",
    "            if total == 0:\n",
    "                df_noise.loc[i, j] = 0\n",
    "            else:\n",
    "                df_noise.loc[i, j] = int(n)/total\n",
    "            df_total_audio.loc[i, j] = total\n",
    "    df_noise.to_csv('./Final_Data/noise.csv')"
   ]
  },
  {
   "cell_type": "code",
   "execution_count": 9,
   "metadata": {},
   "outputs": [],
   "source": [
    "### Split Dark ###\n",
    "def splitDark(inputs):\n",
    "    df_dark_freq = pd.DataFrame(columns=None)\n",
    "    df_dark_time = pd.DataFrame(columns=None)\n",
    "    for i in inputs['dark'].index:\n",
    "        for j in inputs['dark'].columns:\n",
    "            t, f = inputs['dark'].loc[i, j].split('|')\n",
    "            df_dark_time.loc[i, j] = t\n",
    "            df_dark_freq.loc[i, j] = f\n",
    "    df_dark_time.to_csv('./Final_Data/dark_time.csv')\n",
    "    df_dark_freq.to_csv('./Final_Data/dark_freq.csv')"
   ]
  },
  {
   "cell_type": "code",
   "execution_count": 10,
   "metadata": {},
   "outputs": [],
   "source": [
    "### Split Conversation ###\n",
    "def splitConversation(inputs):\n",
    "    df_conversation_freq = pd.DataFrame(columns=None)\n",
    "    df_conversation_time = pd.DataFrame(columns=None)\n",
    "    for i in inputs['conversation'].index:\n",
    "        for j in inputs['conversation'].columns:\n",
    "            t, f = inputs['conversation'].loc[i, j].split('|')\n",
    "            df_conversation_time.loc[i, j] = t\n",
    "            df_conversation_freq.loc[i, j] = f\n",
    "    df_conversation_time.to_csv('./Final_Data/conversation_time.csv')\n",
    "    df_conversation_freq.to_csv('./Final_Data/conversation_freq.csv')"
   ]
  },
  {
   "cell_type": "code",
   "execution_count": null,
   "metadata": {},
   "outputs": [],
   "source": []
  }
 ],
 "metadata": {
  "kernelspec": {
   "display_name": "Python 3",
   "language": "python",
   "name": "python3"
  },
  "language_info": {
   "codemirror_mode": {
    "name": "ipython",
    "version": 3
   },
   "file_extension": ".py",
   "mimetype": "text/x-python",
   "name": "python",
   "nbconvert_exporter": "python",
   "pygments_lexer": "ipython3",
   "version": "3.6.2"
  }
 },
 "nbformat": 4,
 "nbformat_minor": 2
}
