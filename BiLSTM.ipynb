{
 "cells": [
  {
   "cell_type": "markdown",
   "metadata": {},
   "source": [
    "# 1. 数据导入"
   ]
  },
  {
   "cell_type": "code",
   "execution_count": 80,
   "metadata": {},
   "outputs": [],
   "source": [
    "import os\n",
    "import pickle\n",
    "import matplotlib.pyplot as plt\n",
    "from sklearn.model_selection import train_test_split\n",
    "import torch\n",
    "from torch import nn\n",
    "from torch.autograd import Variable\n",
    "from torch.utils.data.dataset import Dataset, TensorDataset\n",
    "import numpy as np\n",
    "%matplotlib inline"
   ]
  },
  {
   "cell_type": "code",
   "execution_count": 81,
   "metadata": {},
   "outputs": [],
   "source": [
    "basic = os.getcwd()\n",
    "save_path = basic + \"/bilstm_params.pkl\"\n",
    "data_path = basic + \"/data_x.pickle\"\n",
    "label_path = basic + \"/data_y.pickle\""
   ]
  },
  {
   "cell_type": "code",
   "execution_count": 82,
   "metadata": {},
   "outputs": [],
   "source": [
    "data = pickle.load(open(data_path, \"rb\"))\n",
    "label = pickle.load(open(label_path, \"rb\")).reshape(37)"
   ]
  },
  {
   "cell_type": "code",
   "execution_count": 83,
   "metadata": {},
   "outputs": [],
   "source": [
    "# Hyper Parameters\n",
    "EPOCH = 10               # train the training data n times\n",
    "BATCH_SIZE = 8\n",
    "HIDDEN_SIZE = 16\n",
    "TIME_STEP = data.shape[1]         # rnn time step / image height\n",
    "INPUT_SIZE = data.shape[2]         # rnn input size / image width\n",
    "LR = 0.01               # learning rate"
   ]
  },
  {
   "cell_type": "code",
   "execution_count": 84,
   "metadata": {},
   "outputs": [
    {
     "data": {
      "text/plain": [
       "(29, 10, 7)"
      ]
     },
     "execution_count": 84,
     "metadata": {},
     "output_type": "execute_result"
    }
   ],
   "source": [
    "train_x, valid_x, train_y, valid_y = train_test_split(data, label, train_size=0.8, random_state=100)\n",
    "train_x.shape"
   ]
  },
  {
   "cell_type": "markdown",
   "metadata": {},
   "source": [
    "# 2. 模型训练"
   ]
  },
  {
   "cell_type": "code",
   "execution_count": 85,
   "metadata": {},
   "outputs": [],
   "source": [
    "import torch\n",
    "from torch import nn\n",
    "from torch.autograd import Variable\n",
    "from torch.utils.data.dataset import Dataset, TensorDataset"
   ]
  },
  {
   "cell_type": "code",
   "execution_count": 86,
   "metadata": {},
   "outputs": [
    {
     "data": {
      "text/plain": [
       "<torch._C.Generator at 0x122115150>"
      ]
     },
     "execution_count": 86,
     "metadata": {},
     "output_type": "execute_result"
    }
   ],
   "source": [
    "torch.manual_seed(999)    # reproducible"
   ]
  },
  {
   "cell_type": "code",
   "execution_count": 87,
   "metadata": {},
   "outputs": [],
   "source": [
    "# Data Loader for easy mini-batch return in training\n",
    "train_x, train_y = torch.from_numpy(train_x), torch.from_numpy(train_y)\n",
    "valid_x, valid_y = torch.from_numpy(valid_x), torch.from_numpy(valid_y)\n",
    "train_loader = torch.utils.data.DataLoader(dataset=TensorDataset(train_x, train_y), \n",
    "                                           batch_size=BATCH_SIZE, shuffle=True)"
   ]
  },
  {
   "cell_type": "code",
   "execution_count": 122,
   "metadata": {},
   "outputs": [],
   "source": [
    "# Device configuration\n",
    "device = torch.device('cuda' if torch.cuda.is_available() else 'cpu')\n",
    "\n",
    "class BiRNN(nn.Module):\n",
    "    \n",
    "    def __init__(self, hidden_size=HIDDEN_SIZE, num_layers=3, num_classes=2):\n",
    "        super(BiRNN, self).__init__()\n",
    "        self.hidden_size = hidden_size\n",
    "        self.num_layers = num_layers\n",
    "        self.lstm = nn.LSTM(INPUT_SIZE, hidden_size, num_layers, batch_first=True, bidirectional=True)\n",
    "        self.fc = nn.Linear(hidden_size*2, num_classes)  # 2 for bidirection\n",
    "        self.hidden = None\n",
    "    def forward(self, x):\n",
    "        # Set initial states\n",
    "        h0 = torch.zeros(self.num_layers*2, x.size(0), self.hidden_size).to(device) # 2 for bidirection \n",
    "        c0 = torch.zeros(self.num_layers*2, x.size(0), self.hidden_size).to(device)\n",
    "        \n",
    "        # Forward propagate LSTM\n",
    "        out, self.hidden = self.lstm(x, (h0, c0))  # out: tensor of shape (batch_size, seq_length, hidden_size*2)\n",
    "        \n",
    "        # Decode the hidden state of the last time step\n",
    "        out = self.fc(out[:, -1, :])\n",
    "        return out"
   ]
  },
  {
   "cell_type": "code",
   "execution_count": 139,
   "metadata": {},
   "outputs": [
    {
     "name": "stdout",
     "output_type": "stream",
     "text": [
      "BiRNN(\n",
      "  (lstm): LSTM(7, 16, num_layers=3, batch_first=True, bidirectional=True)\n",
      "  (fc): Linear(in_features=32, out_features=2, bias=True)\n",
      ")\n"
     ]
    }
   ],
   "source": [
    "rnn = BiRNN()\n",
    "print(rnn)"
   ]
  },
  {
   "cell_type": "code",
   "execution_count": 140,
   "metadata": {},
   "outputs": [],
   "source": [
    "optimizer = torch.optim.Adam(rnn.parameters(), lr=LR)   # optimize all rnn parameters\n",
    "loss_func = nn.CrossEntropyLoss()"
   ]
  },
  {
   "cell_type": "code",
   "execution_count": 147,
   "metadata": {},
   "outputs": [
    {
     "name": "stdout",
     "output_type": "stream",
     "text": [
      "Epoch:  0 | train loss: 0.5344 | valid loss: 0.8641 | train accuracy: 0.6897 | valid accuracy: 0.3750\n",
      "Epoch:  1 | train loss: 0.4067 | valid loss: 0.7235 | train accuracy: 0.7586 | valid accuracy: 0.5000\n",
      "Epoch:  2 | train loss: 0.5190 | valid loss: 0.8763 | train accuracy: 0.8966 | valid accuracy: 0.5000\n",
      "Epoch:  3 | train loss: 0.3251 | valid loss: 1.0498 | train accuracy: 0.8621 | valid accuracy: 0.5000\n",
      "Epoch:  4 | train loss: 0.5745 | valid loss: 0.9523 | train accuracy: 0.8276 | valid accuracy: 0.5000\n",
      "Epoch:  5 | train loss: 0.2135 | valid loss: 1.1462 | train accuracy: 0.8966 | valid accuracy: 0.5000\n",
      "Epoch:  6 | train loss: 0.4373 | valid loss: 1.2311 | train accuracy: 0.8966 | valid accuracy: 0.5000\n",
      "Epoch:  7 | train loss: 0.2330 | valid loss: 1.1564 | train accuracy: 0.8276 | valid accuracy: 0.6250\n",
      "Epoch:  8 | train loss: 0.4369 | valid loss: 1.0266 | train accuracy: 0.7931 | valid accuracy: 0.6250\n",
      "Epoch:  9 | train loss: 0.2417 | valid loss: 1.0119 | train accuracy: 0.9310 | valid accuracy: 0.6250\n"
     ]
    },
    {
     "data": {
      "text/plain": [
       "<matplotlib.legend.Legend at 0x12682e5c0>"
      ]
     },
     "execution_count": 147,
     "metadata": {},
     "output_type": "execute_result"
    },
    {
     "data": {
      "image/png": "[encoded data removed]",
      "text/plain": [
       "<Figure size 864x360 with 2 Axes>"
      ]
     },
     "metadata": {
      "needs_background": "light"
     },
     "output_type": "display_data"
    }
   ],
   "source": [
    "train_losses = []\n",
    "valid_losses = []\n",
    "train_accuracy = []\n",
    "valid_accuracy = []\n",
    "f = plt.figure(figsize=(12, 5))\n",
    "ax1 = f.add_subplot(121)\n",
    "ax2 = f.add_subplot(122)\n",
    "\n",
    "# training and testing\n",
    "for epoch in range(EPOCH):\n",
    "    for step, (x, y) in enumerate(train_loader):        # gives batch data\n",
    "        b_x = Variable(x.float())                       # batch x\n",
    "        b_y = Variable(y.long())                        # batch y\n",
    "        output = rnn(b_x)                            # rnn output\n",
    "        loss = loss_func(output, b_y)                   # cross entropy loss\n",
    "        optimizer.zero_grad()                           # clear gradients for this training step\n",
    "        loss.backward()                                 # backpropagation, compute gradients\n",
    "        optimizer.step()                                # apply gradients\n",
    "        if step % 5 == 0:\n",
    "            valid_output = rnn(Variable(valid_x.float()))\n",
    "            train_output = rnn(Variable(train_x.float()))\n",
    "            train_loss = loss_func(train_output, train_y.long())\n",
    "            valid_loss = loss_func(valid_output, valid_y.long())\n",
    "            train_losses.append(train_loss.data)\n",
    "            valid_losses.append(valid_loss.data)\n",
    "            \n",
    "            pred_train = torch.max(train_output, 1)[1].data.numpy().squeeze()\n",
    "            pred_valid = torch.max(valid_output, 1)[1].data.numpy().squeeze()\n",
    "            train_accu = sum(pred_train == train_y.data.numpy()) / float(train_y.numpy().size)\n",
    "            valid_accu = sum(pred_valid == valid_y.data.numpy()) / float(valid_y.numpy().size)\n",
    "            train_accuracy.append(train_accu)\n",
    "            valid_accuracy.append(valid_accu)\n",
    "            \n",
    "            print('Epoch: ', epoch, '| train loss: %.4f' % loss.data, '| valid loss: %.4f' % valid_loss.data, \n",
    "                  '| train accuracy: %.4f' % train_accu, '| valid accuracy: %.4f' % valid_accu)\n",
    "\n",
    "ax1.plot(train_losses, label=\"train loss\")\n",
    "ax1.plot(valid_losses, label=\"valid loss\")\n",
    "ax1.legend()\n",
    "ax2.plot(train_accuracy, label=\"train acc\")\n",
    "ax2.plot(valid_accuracy, label=\"valid acc\")\n",
    "ax2.legend()"
   ]
  },
  {
   "cell_type": "code",
   "execution_count": 148,
   "metadata": {},
   "outputs": [
    {
     "name": "stdout",
     "output_type": "stream",
     "text": [
      "BiRNN(\n",
      "  (lstm): LSTM(7, 16, num_layers=3, batch_first=True, bidirectional=True)\n",
      "  (fc): Linear(in_features=32, out_features=2, bias=True)\n",
      ")\n"
     ]
    },
    {
     "data": {
      "image/png": "[encoded data removed]",
      "text/plain": [
       "<Figure size 864x360 with 2 Axes>"
      ]
     },
     "metadata": {
      "needs_background": "light"
     },
     "output_type": "display_data"
    }
   ],
   "source": [
    "rnn1 = BiRNN()\n",
    "print(rnn1)\n",
    "train_losses = []\n",
    "valid_losses = []\n",
    "train_accuracy = []\n",
    "valid_accuracy = []\n",
    "f = plt.figure(figsize=(12, 5))\n",
    "ax1 = f.add_subplot(121)\n",
    "ax2 = f.add_subplot(122)\n",
    "\n",
    "# training and testing\n",
    "for epoch in range(EPOCH):\n",
    "    data1 = torch.tensor(data)\n",
    "    y1 = torch.tensor(label)\n",
    "    b_x = Variable(data1.float())                       # batch x\n",
    "    b_y = Variable(y1.long())                        # batch y\n",
    "    output = rnn1(b_x)                            # rnn output\n",
    "    loss = loss_func(output, b_y)                   # cross entropy loss\n",
    "    optimizer.zero_grad()                           # clear gradients for this training step\n",
    "    loss.backward()                                 # backpropagation, compute gradients\n",
    "    optimizer.step()                                # apply gradients\n",
    "#     if step % 5 == 0:\n",
    "#         valid_output = rnn(Variable(valid_x.float()))\n",
    "#         train_output = rnn(Variable(train_x.float()))\n",
    "#         train_loss = loss_func(train_output, train_y.long())\n",
    "#         valid_loss = loss_func(valid_output, valid_y.long())\n",
    "#         train_losses.append(train_loss.data)\n",
    "#         valid_losses.append(valid_loss.data)\n",
    "\n",
    "#         pred_train = torch.max(train_output, 1)[1].data.numpy().squeeze()\n",
    "#         pred_valid = torch.max(valid_output, 1)[1].data.numpy().squeeze()\n",
    "#         train_accu = sum(pred_train == train_y.data.numpy()) / float(train_y.numpy().size)\n",
    "#         valid_accu = sum(pred_valid == valid_y.data.numpy()) / float(valid_y.numpy().size)\n",
    "#         train_accuracy.append(train_accu)\n",
    "#         valid_accuracy.append(valid_accu)\n",
    "\n",
    "#         print('Epoch: ', epoch, '| train loss: %.4f' % loss.data, '| valid loss: %.4f' % valid_loss.data, \n",
    "#               '| train accuracy: %.4f' % train_accu, '| valid accuracy: %.4f' % valid_accu)\n",
    "\n",
    "# ax1.plot(train_losses, label=\"train loss\")\n",
    "# ax1.plot(valid_losses, label=\"valid loss\")\n",
    "# ax1.legend()\n",
    "# ax2.plot(train_accuracy, label=\"train acc\")\n",
    "# ax2.plot(valid_accuracy, label=\"valid acc\")\n",
    "# ax2.legend()"
   ]
  },
  {
   "cell_type": "code",
   "execution_count": 118,
   "metadata": {},
   "outputs": [
    {
     "data": {
      "text/plain": [
       "(array([1, 0, 1, 1, 1, 1, 1, 0]),\n",
       " tensor([1., 0., 1., 1., 0., 1., 1., 0.], dtype=torch.float64))"
      ]
     },
     "execution_count": 118,
     "metadata": {},
     "output_type": "execute_result"
    }
   ],
   "source": [
    "# print 10 predictions from test data\n",
    "valid_output = rnn(Variable(valid_x.float()))\n",
    "pred_y = torch.max(valid_output, 1)[1].data.numpy().squeeze()\n",
    "pred_y[:10], valid_y[:10]"
   ]
  },
  {
   "cell_type": "code",
   "execution_count": 39,
   "metadata": {},
   "outputs": [
    {
     "name": "stderr",
     "output_type": "stream",
     "text": [
      "/Library/Frameworks/Python.framework/Versions/3.6/lib/python3.6/site-packages/torch/serialization.py:292: UserWarning: Couldn't retrieve source code for container of type BiRNN. It won't be checked for correctness upon loading.\n",
      "  \"type \" + obj.__name__ + \". It won't be checked \"\n",
      "/Library/Frameworks/Python.framework/Versions/3.6/lib/python3.6/site-packages/torch/serialization.py:292: UserWarning: Couldn't retrieve source code for container of type LSTM. It won't be checked for correctness upon loading.\n",
      "  \"type \" + obj.__name__ + \". It won't be checked \"\n",
      "/Library/Frameworks/Python.framework/Versions/3.6/lib/python3.6/site-packages/torch/serialization.py:292: UserWarning: Couldn't retrieve source code for container of type Linear. It won't be checked for correctness upon loading.\n",
      "  \"type \" + obj.__name__ + \". It won't be checked \"\n"
     ]
    }
   ],
   "source": [
    "torch.save(rnn, save_path)"
   ]
  },
  {
   "cell_type": "code",
   "execution_count": 75,
   "metadata": {},
   "outputs": [
    {
     "name": "stdout",
     "output_type": "stream",
     "text": [
      "tensor([[-0.5949,  0.3043],\n",
      "        [ 0.8917, -0.7752],\n",
      "        [ 0.1438, -0.1551],\n",
      "        [ 0.9887, -0.9103],\n",
      "        [-0.7705,  0.5094]], grad_fn=<AddmmBackward>)\n"
     ]
    }
   ],
   "source": [
    "print(output)"
   ]
  },
  {
   "cell_type": "code",
   "execution_count": 108,
   "metadata": {},
   "outputs": [
    {
     "name": "stdout",
     "output_type": "stream",
     "text": [
      "tensor([[-0.4744,  0.7503],\n",
      "        [-0.4493,  0.8030],\n",
      "        [-0.2952,  0.5580],\n",
      "        [ 0.4589, -0.5202],\n",
      "        [-0.4861,  0.8510],\n",
      "        [-0.5169,  0.8508],\n",
      "        [-0.5139,  0.8725],\n",
      "        [ 0.6443, -0.7716]], grad_fn=<AddmmBackward>)\n"
     ]
    }
   ],
   "source": [
    "print(valid_output)"
   ]
  },
  {
   "cell_type": "code",
   "execution_count": 111,
   "metadata": {},
   "outputs": [
    {
     "name": "stdout",
     "output_type": "stream",
     "text": [
      "torch.return_types.max(\n",
      "values=tensor([0.7503, 0.8030, 0.5580, 0.4589, 0.8510, 0.8508, 0.8725, 0.6443],\n",
      "       grad_fn=<MaxBackward0>),\n",
      "indices=tensor([1, 1, 1, 0, 1, 1, 1, 0]))\n"
     ]
    }
   ],
   "source": [
    "print(torch.max(valid_output, 1))"
   ]
  },
  {
   "cell_type": "code",
   "execution_count": 149,
   "metadata": {},
   "outputs": [
    {
     "data": {
      "text/plain": [
       "torch.Size([6, 37, 16])"
      ]
     },
     "execution_count": 149,
     "metadata": {},
     "output_type": "execute_result"
    }
   ],
   "source": [
    "rnn1.hidden[1].shape"
   ]
  },
  {
   "cell_type": "code",
   "execution_count": 150,
   "metadata": {},
   "outputs": [
    {
     "data": {
      "text/plain": [
       "torch.Size([6, 37, 16])"
      ]
     },
     "execution_count": 150,
     "metadata": {},
     "output_type": "execute_result"
    }
   ],
   "source": [
    "rnn1.hidden[0].shape"
   ]
  },
  {
   "cell_type": "code",
   "execution_count": 151,
   "metadata": {},
   "outputs": [
    {
     "data": {
      "text/plain": [
       "tensor([[[-1.0000e+01,  0.0000e+00,  0.0000e+00,  ...,  0.0000e+00,\n",
       "           1.0650e+00,  1.0000e+00],\n",
       "         [-8.0000e+00,  1.8059e-26,  0.0000e+00,  ...,  0.0000e+00,\n",
       "           0.0000e+00,  1.0000e+00],\n",
       "         [-1.0000e+01,  0.0000e+00,  0.0000e+00,  ...,  0.0000e+00,\n",
       "          -1.7160e-01,  1.0000e+01],\n",
       "         ...,\n",
       "         [-1.0000e+01,  8.0425e-28,  0.0000e+00,  ...,  0.0000e+00,\n",
       "          -1.0000e+00,  9.9018e+00],\n",
       "         [-6.2466e+00,  0.0000e+00,  0.0000e+00,  ...,  1.4818e-01,\n",
       "          -1.4552e+00,  6.1519e+00],\n",
       "         [-1.0000e+01,  0.0000e+00,  0.0000e+00,  ...,  0.0000e+00,\n",
       "          -8.0000e+00,  1.0000e+01]],\n",
       "\n",
       "        [[ 3.4865e-09,  1.0000e+00,  2.0000e+00,  ..., -9.0000e+00,\n",
       "          -1.0000e+00,  0.0000e+00],\n",
       "         [ 2.0266e-10, -1.0000e+00,  9.9754e-01,  ..., -4.0000e+00,\n",
       "          -1.0000e+00,  0.0000e+00],\n",
       "         [ 0.0000e+00, -1.0000e+00,  4.0236e-09,  ..., -1.0000e+01,\n",
       "          -1.0000e+00,  0.0000e+00],\n",
       "         ...,\n",
       "         [ 0.0000e+00,  1.0000e+00,  1.0000e+00,  ..., -1.0000e+01,\n",
       "          -1.0000e+00,  0.0000e+00],\n",
       "         [ 2.3445e-01, -1.0000e+00,  1.2667e-08,  ..., -7.6670e+00,\n",
       "          -1.0000e+00,  0.0000e+00],\n",
       "         [ 0.0000e+00,  1.0000e+00,  1.0000e+00,  ..., -1.0000e+01,\n",
       "          -1.0000e+00,  0.0000e+00]],\n",
       "\n",
       "        [[ 4.5120e-01,  2.0261e-01,  1.0649e-01,  ...,  8.5392e-02,\n",
       "           1.4692e-02, -2.1940e-01],\n",
       "         [ 3.2879e-01,  1.5718e-01,  1.7992e-01,  ...,  1.5735e-01,\n",
       "          -1.7410e-02, -2.1301e-01],\n",
       "         [ 3.4265e-01,  2.7979e-01,  3.5946e-01,  ...,  1.3668e-01,\n",
       "          -2.0923e-01, -1.1395e-01],\n",
       "         ...,\n",
       "         [ 3.3579e-01,  4.7968e-01,  2.0860e-01,  ...,  1.8335e-01,\n",
       "          -1.9654e-01, -3.5331e-01],\n",
       "         [ 3.5386e-01,  4.1190e-01,  3.4771e-01,  ...,  1.7330e-01,\n",
       "          -2.0981e-01, -2.6197e-01],\n",
       "         [ 4.9631e-01,  5.4866e-01,  2.2679e-01,  ...,  2.9435e-01,\n",
       "          -1.1330e-01, -1.8676e-01]],\n",
       "\n",
       "        [[ 6.9213e-01, -1.5155e-01, -3.9058e-01,  ..., -3.7916e-01,\n",
       "           3.9416e-02,  7.4456e-02],\n",
       "         [ 7.0467e-01, -2.6330e-01, -4.8215e-01,  ..., -5.9562e-01,\n",
       "           1.5175e-01, -2.5715e-02],\n",
       "         [ 4.1756e-01, -3.9608e-01, -5.4890e-01,  ..., -5.8036e-01,\n",
       "           2.2213e-01, -2.8690e-01],\n",
       "         ...,\n",
       "         [ 7.1873e-01, -2.9643e-01, -4.7852e-01,  ..., -6.8028e-01,\n",
       "           9.0930e-02, -5.8266e-03],\n",
       "         [ 3.6479e-01, -4.4058e-01, -4.9351e-01,  ..., -5.4515e-01,\n",
       "           2.2962e-01, -3.1466e-01],\n",
       "         [ 8.1829e-01, -5.1420e-01, -4.9246e-01,  ..., -6.7371e-01,\n",
       "           4.4028e-02,  3.6469e-02]],\n",
       "\n",
       "        [[-1.6256e-01,  1.2575e-03,  4.1249e-02,  ..., -4.8739e-01,\n",
       "           2.1806e-01,  1.5898e-01],\n",
       "         [-1.0993e-01, -2.0511e-02,  7.5137e-03,  ..., -4.5540e-01,\n",
       "           2.0567e-01,  1.8889e-01],\n",
       "         [-1.1337e-01, -7.7703e-02,  1.1994e-02,  ..., -3.8910e-01,\n",
       "           2.0848e-01,  2.2258e-01],\n",
       "         ...,\n",
       "         [-1.5753e-01, -7.1208e-02,  1.5849e-02,  ..., -4.7574e-01,\n",
       "           2.2722e-01,  1.9711e-01],\n",
       "         [-1.3343e-01, -3.7453e-02,  1.7113e-02,  ..., -3.9995e-01,\n",
       "           2.0256e-01,  2.4459e-01],\n",
       "         [-1.8352e-01, -6.7257e-02,  5.0398e-02,  ..., -4.7670e-01,\n",
       "           2.4302e-01,  1.8813e-01]],\n",
       "\n",
       "        [[-7.7988e-02, -5.5648e-01, -4.9898e-01,  ..., -1.5460e-01,\n",
       "           1.1849e-01, -1.6943e-02],\n",
       "         [-1.0654e-01, -6.0518e-01, -4.8178e-01,  ..., -1.1104e-01,\n",
       "           1.3611e-01, -1.6003e-02],\n",
       "         [-1.2586e-01, -6.3980e-01, -4.5181e-01,  ..., -7.1192e-02,\n",
       "           1.1804e-01, -1.6967e-03],\n",
       "         ...,\n",
       "         [-1.1674e-01, -5.9922e-01, -4.7539e-01,  ..., -1.1408e-01,\n",
       "           1.4484e-01, -6.7384e-03],\n",
       "         [-1.1100e-01, -6.3395e-01, -4.5798e-01,  ..., -8.0999e-02,\n",
       "           1.2035e-01, -9.9392e-03],\n",
       "         [-7.8994e-02, -5.8859e-01, -5.2124e-01,  ..., -1.3193e-01,\n",
       "           9.9461e-02, -3.5642e-02]]], grad_fn=<StackBackward>)"
      ]
     },
     "execution_count": 151,
     "metadata": {},
     "output_type": "execute_result"
    }
   ],
   "source": [
    "rnn1.hidden[1]"
   ]
  },
  {
   "cell_type": "code",
   "execution_count": null,
   "metadata": {},
   "outputs": [],
   "source": []
  },
  {
   "cell_type": "code",
   "execution_count": null,
   "metadata": {},
   "outputs": [],
   "source": []
  }
 ],
 "metadata": {
  "kernelspec": {
   "display_name": "Python 3",
   "language": "python",
   "name": "python3"
  },
  "language_info": {
   "codemirror_mode": {
    "name": "ipython",
    "version": 3
   },
   "file_extension": ".py",
   "mimetype": "text/x-python",
   "name": "python",
   "nbconvert_exporter": "python",
   "pygments_lexer": "ipython3",
   "version": "3.6.2"
  }
 },
 "nbformat": 4,
 "nbformat_minor": 2
}
